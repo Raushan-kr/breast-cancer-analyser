{
 "cells": [
  {
   "cell_type": "code",
   "execution_count": 1,
   "metadata": {},
   "outputs": [
    {
     "data": {
      "text/html": [
       "<div>\n",
       "<style scoped>\n",
       "    .dataframe tbody tr th:only-of-type {\n",
       "        vertical-align: middle;\n",
       "    }\n",
       "\n",
       "    .dataframe tbody tr th {\n",
       "        vertical-align: top;\n",
       "    }\n",
       "\n",
       "    .dataframe thead th {\n",
       "        text-align: right;\n",
       "    }\n",
       "</style>\n",
       "<table border=\"1\" class=\"dataframe\">\n",
       "  <thead>\n",
       "    <tr style=\"text-align: right;\">\n",
       "      <th></th>\n",
       "      <th>ID</th>\n",
       "      <th>Outcome</th>\n",
       "      <th>Time</th>\n",
       "      <th>radius_mean</th>\n",
       "      <th>texture_mean</th>\n",
       "      <th>perimeter_mean</th>\n",
       "      <th>area_mean</th>\n",
       "      <th>smoothness_mean</th>\n",
       "      <th>compactness_mean</th>\n",
       "      <th>concavity_mean</th>\n",
       "      <th>...</th>\n",
       "      <th>Worst_perimeter</th>\n",
       "      <th>Worst_area</th>\n",
       "      <th>Worst_smoothness</th>\n",
       "      <th>Worst_compactness</th>\n",
       "      <th>Worst_concavity</th>\n",
       "      <th>Worst_concave_points</th>\n",
       "      <th>Worst_symmetry</th>\n",
       "      <th>Worst_fractal_dimension</th>\n",
       "      <th>Tumor_Size</th>\n",
       "      <th>Lymph_Node_Status</th>\n",
       "    </tr>\n",
       "  </thead>\n",
       "  <tbody>\n",
       "    <tr>\n",
       "      <th>0</th>\n",
       "      <td>119513</td>\n",
       "      <td>N</td>\n",
       "      <td>31</td>\n",
       "      <td>18.02</td>\n",
       "      <td>27.60</td>\n",
       "      <td>117.50</td>\n",
       "      <td>1013.0</td>\n",
       "      <td>0.09489</td>\n",
       "      <td>0.1036</td>\n",
       "      <td>0.1086</td>\n",
       "      <td>...</td>\n",
       "      <td>139.70</td>\n",
       "      <td>1436.0</td>\n",
       "      <td>0.1195</td>\n",
       "      <td>0.1926</td>\n",
       "      <td>0.3140</td>\n",
       "      <td>0.1170</td>\n",
       "      <td>0.2677</td>\n",
       "      <td>0.08113</td>\n",
       "      <td>5.0</td>\n",
       "      <td>5</td>\n",
       "    </tr>\n",
       "    <tr>\n",
       "      <th>1</th>\n",
       "      <td>8423</td>\n",
       "      <td>N</td>\n",
       "      <td>61</td>\n",
       "      <td>17.99</td>\n",
       "      <td>10.38</td>\n",
       "      <td>122.80</td>\n",
       "      <td>1001.0</td>\n",
       "      <td>0.11840</td>\n",
       "      <td>0.2776</td>\n",
       "      <td>0.3001</td>\n",
       "      <td>...</td>\n",
       "      <td>184.60</td>\n",
       "      <td>2019.0</td>\n",
       "      <td>0.1622</td>\n",
       "      <td>0.6656</td>\n",
       "      <td>0.7119</td>\n",
       "      <td>0.2654</td>\n",
       "      <td>0.4601</td>\n",
       "      <td>0.11890</td>\n",
       "      <td>3.0</td>\n",
       "      <td>2</td>\n",
       "    </tr>\n",
       "    <tr>\n",
       "      <th>2</th>\n",
       "      <td>842517</td>\n",
       "      <td>N</td>\n",
       "      <td>116</td>\n",
       "      <td>21.37</td>\n",
       "      <td>17.44</td>\n",
       "      <td>137.50</td>\n",
       "      <td>1373.0</td>\n",
       "      <td>0.08836</td>\n",
       "      <td>0.1189</td>\n",
       "      <td>0.1255</td>\n",
       "      <td>...</td>\n",
       "      <td>159.10</td>\n",
       "      <td>1949.0</td>\n",
       "      <td>0.1188</td>\n",
       "      <td>0.3449</td>\n",
       "      <td>0.3414</td>\n",
       "      <td>0.2032</td>\n",
       "      <td>0.4334</td>\n",
       "      <td>0.09067</td>\n",
       "      <td>2.5</td>\n",
       "      <td>0</td>\n",
       "    </tr>\n",
       "    <tr>\n",
       "      <th>3</th>\n",
       "      <td>843483</td>\n",
       "      <td>N</td>\n",
       "      <td>123</td>\n",
       "      <td>11.42</td>\n",
       "      <td>20.38</td>\n",
       "      <td>77.58</td>\n",
       "      <td>386.1</td>\n",
       "      <td>0.14250</td>\n",
       "      <td>0.2839</td>\n",
       "      <td>0.2414</td>\n",
       "      <td>...</td>\n",
       "      <td>98.87</td>\n",
       "      <td>567.7</td>\n",
       "      <td>0.2098</td>\n",
       "      <td>0.8663</td>\n",
       "      <td>0.6869</td>\n",
       "      <td>0.2575</td>\n",
       "      <td>0.6638</td>\n",
       "      <td>0.17300</td>\n",
       "      <td>2.0</td>\n",
       "      <td>0</td>\n",
       "    </tr>\n",
       "    <tr>\n",
       "      <th>4</th>\n",
       "      <td>843584</td>\n",
       "      <td>R</td>\n",
       "      <td>27</td>\n",
       "      <td>20.29</td>\n",
       "      <td>14.34</td>\n",
       "      <td>135.10</td>\n",
       "      <td>1297.0</td>\n",
       "      <td>0.10030</td>\n",
       "      <td>0.1328</td>\n",
       "      <td>0.1980</td>\n",
       "      <td>...</td>\n",
       "      <td>152.20</td>\n",
       "      <td>1575.0</td>\n",
       "      <td>0.1374</td>\n",
       "      <td>0.2050</td>\n",
       "      <td>0.4000</td>\n",
       "      <td>0.1625</td>\n",
       "      <td>0.2364</td>\n",
       "      <td>0.07678</td>\n",
       "      <td>3.5</td>\n",
       "      <td>0</td>\n",
       "    </tr>\n",
       "  </tbody>\n",
       "</table>\n",
       "<p>5 rows × 35 columns</p>\n",
       "</div>"
      ],
      "text/plain": [
       "       ID Outcome  Time  radius_mean  texture_mean  perimeter_mean  area_mean  \\\n",
       "0  119513       N    31        18.02         27.60          117.50     1013.0   \n",
       "1    8423       N    61        17.99         10.38          122.80     1001.0   \n",
       "2  842517       N   116        21.37         17.44          137.50     1373.0   \n",
       "3  843483       N   123        11.42         20.38           77.58      386.1   \n",
       "4  843584       R    27        20.29         14.34          135.10     1297.0   \n",
       "\n",
       "   smoothness_mean  compactness_mean  concavity_mean        ...          \\\n",
       "0          0.09489            0.1036          0.1086        ...           \n",
       "1          0.11840            0.2776          0.3001        ...           \n",
       "2          0.08836            0.1189          0.1255        ...           \n",
       "3          0.14250            0.2839          0.2414        ...           \n",
       "4          0.10030            0.1328          0.1980        ...           \n",
       "\n",
       "   Worst_perimeter  Worst_area  Worst_smoothness  Worst_compactness  \\\n",
       "0           139.70      1436.0            0.1195             0.1926   \n",
       "1           184.60      2019.0            0.1622             0.6656   \n",
       "2           159.10      1949.0            0.1188             0.3449   \n",
       "3            98.87       567.7            0.2098             0.8663   \n",
       "4           152.20      1575.0            0.1374             0.2050   \n",
       "\n",
       "   Worst_concavity  Worst_concave_points  Worst_symmetry  \\\n",
       "0           0.3140                0.1170          0.2677   \n",
       "1           0.7119                0.2654          0.4601   \n",
       "2           0.3414                0.2032          0.4334   \n",
       "3           0.6869                0.2575          0.6638   \n",
       "4           0.4000                0.1625          0.2364   \n",
       "\n",
       "   Worst_fractal_dimension  Tumor_Size  Lymph_Node_Status  \n",
       "0                  0.08113         5.0                  5  \n",
       "1                  0.11890         3.0                  2  \n",
       "2                  0.09067         2.5                  0  \n",
       "3                  0.17300         2.0                  0  \n",
       "4                  0.07678         3.5                  0  \n",
       "\n",
       "[5 rows x 35 columns]"
      ]
     },
     "execution_count": 1,
     "metadata": {},
     "output_type": "execute_result"
    }
   ],
   "source": [
    "import pandas as pd\n",
    "from pandas import ExcelWriter\n",
    "from pandas import ExcelFile\n",
    "df = pd.read_excel('BreastCancer_Prognostic_v1.xlsx')\n",
    "df.head()"
   ]
  },
  {
   "cell_type": "code",
   "execution_count": 2,
   "metadata": {},
   "outputs": [],
   "source": [
    "df.drop('ID',axis=1,inplace=True)\n",
    "\n",
    "df=df[df.Lymph_Node_Status!='?']"
   ]
  },
  {
   "cell_type": "code",
   "execution_count": 3,
   "metadata": {},
   "outputs": [
    {
     "data": {
      "text/html": [
       "<div>\n",
       "<style scoped>\n",
       "    .dataframe tbody tr th:only-of-type {\n",
       "        vertical-align: middle;\n",
       "    }\n",
       "\n",
       "    .dataframe tbody tr th {\n",
       "        vertical-align: top;\n",
       "    }\n",
       "\n",
       "    .dataframe thead th {\n",
       "        text-align: right;\n",
       "    }\n",
       "</style>\n",
       "<table border=\"1\" class=\"dataframe\">\n",
       "  <thead>\n",
       "    <tr style=\"text-align: right;\">\n",
       "      <th></th>\n",
       "      <th>Time</th>\n",
       "      <th>radius_mean</th>\n",
       "      <th>texture_mean</th>\n",
       "      <th>perimeter_mean</th>\n",
       "      <th>area_mean</th>\n",
       "      <th>smoothness_mean</th>\n",
       "      <th>compactness_mean</th>\n",
       "      <th>concavity_mean</th>\n",
       "      <th>concave_points_mean</th>\n",
       "      <th>symmetry_mean</th>\n",
       "      <th>...</th>\n",
       "      <th>Worst_texture</th>\n",
       "      <th>Worst_perimeter</th>\n",
       "      <th>Worst_area</th>\n",
       "      <th>Worst_smoothness</th>\n",
       "      <th>Worst_compactness</th>\n",
       "      <th>Worst_concavity</th>\n",
       "      <th>Worst_concave_points</th>\n",
       "      <th>Worst_symmetry</th>\n",
       "      <th>Worst_fractal_dimension</th>\n",
       "      <th>Tumor_Size</th>\n",
       "    </tr>\n",
       "  </thead>\n",
       "  <tbody>\n",
       "    <tr>\n",
       "      <th>count</th>\n",
       "      <td>194.000000</td>\n",
       "      <td>194.000000</td>\n",
       "      <td>194.000000</td>\n",
       "      <td>194.000000</td>\n",
       "      <td>194.000000</td>\n",
       "      <td>194.000000</td>\n",
       "      <td>194.000000</td>\n",
       "      <td>194.000000</td>\n",
       "      <td>194.000000</td>\n",
       "      <td>194.000000</td>\n",
       "      <td>...</td>\n",
       "      <td>194.000000</td>\n",
       "      <td>194.000000</td>\n",
       "      <td>194.000000</td>\n",
       "      <td>194.000000</td>\n",
       "      <td>194.000000</td>\n",
       "      <td>194.000000</td>\n",
       "      <td>194.000000</td>\n",
       "      <td>194.000000</td>\n",
       "      <td>194.000000</td>\n",
       "      <td>194.000000</td>\n",
       "    </tr>\n",
       "    <tr>\n",
       "      <th>mean</th>\n",
       "      <td>46.938144</td>\n",
       "      <td>17.402320</td>\n",
       "      <td>22.300979</td>\n",
       "      <td>114.781495</td>\n",
       "      <td>969.092268</td>\n",
       "      <td>0.102774</td>\n",
       "      <td>0.142642</td>\n",
       "      <td>0.156309</td>\n",
       "      <td>0.086808</td>\n",
       "      <td>0.192885</td>\n",
       "      <td>...</td>\n",
       "      <td>30.180258</td>\n",
       "      <td>140.136907</td>\n",
       "      <td>1401.756701</td>\n",
       "      <td>0.143921</td>\n",
       "      <td>0.364567</td>\n",
       "      <td>0.436010</td>\n",
       "      <td>0.178449</td>\n",
       "      <td>0.322251</td>\n",
       "      <td>0.090777</td>\n",
       "      <td>2.867526</td>\n",
       "    </tr>\n",
       "    <tr>\n",
       "      <th>std</th>\n",
       "      <td>34.523646</td>\n",
       "      <td>3.171672</td>\n",
       "      <td>4.335292</td>\n",
       "      <td>21.430694</td>\n",
       "      <td>353.159959</td>\n",
       "      <td>0.012607</td>\n",
       "      <td>0.050229</td>\n",
       "      <td>0.070942</td>\n",
       "      <td>0.033962</td>\n",
       "      <td>0.027679</td>\n",
       "      <td>...</td>\n",
       "      <td>6.067777</td>\n",
       "      <td>28.826843</td>\n",
       "      <td>587.040705</td>\n",
       "      <td>0.022092</td>\n",
       "      <td>0.165528</td>\n",
       "      <td>0.174757</td>\n",
       "      <td>0.045529</td>\n",
       "      <td>0.074068</td>\n",
       "      <td>0.021371</td>\n",
       "      <td>1.950588</td>\n",
       "    </tr>\n",
       "    <tr>\n",
       "      <th>min</th>\n",
       "      <td>1.000000</td>\n",
       "      <td>10.950000</td>\n",
       "      <td>10.380000</td>\n",
       "      <td>71.900000</td>\n",
       "      <td>361.600000</td>\n",
       "      <td>0.074970</td>\n",
       "      <td>0.046050</td>\n",
       "      <td>0.023980</td>\n",
       "      <td>0.020310</td>\n",
       "      <td>0.130800</td>\n",
       "      <td>...</td>\n",
       "      <td>16.670000</td>\n",
       "      <td>85.100000</td>\n",
       "      <td>508.100000</td>\n",
       "      <td>0.081910</td>\n",
       "      <td>0.051310</td>\n",
       "      <td>0.023980</td>\n",
       "      <td>0.028990</td>\n",
       "      <td>0.156500</td>\n",
       "      <td>0.055040</td>\n",
       "      <td>0.400000</td>\n",
       "    </tr>\n",
       "    <tr>\n",
       "      <th>25%</th>\n",
       "      <td>14.250000</td>\n",
       "      <td>15.052500</td>\n",
       "      <td>19.342500</td>\n",
       "      <td>98.160000</td>\n",
       "      <td>702.525000</td>\n",
       "      <td>0.093900</td>\n",
       "      <td>0.109850</td>\n",
       "      <td>0.106075</td>\n",
       "      <td>0.063760</td>\n",
       "      <td>0.174075</td>\n",
       "      <td>...</td>\n",
       "      <td>26.210000</td>\n",
       "      <td>117.925000</td>\n",
       "      <td>940.575000</td>\n",
       "      <td>0.129325</td>\n",
       "      <td>0.247550</td>\n",
       "      <td>0.322150</td>\n",
       "      <td>0.152225</td>\n",
       "      <td>0.275950</td>\n",
       "      <td>0.076368</td>\n",
       "      <td>1.500000</td>\n",
       "    </tr>\n",
       "    <tr>\n",
       "      <th>50%</th>\n",
       "      <td>39.500000</td>\n",
       "      <td>17.290000</td>\n",
       "      <td>21.795000</td>\n",
       "      <td>113.700000</td>\n",
       "      <td>929.100000</td>\n",
       "      <td>0.102200</td>\n",
       "      <td>0.131750</td>\n",
       "      <td>0.152050</td>\n",
       "      <td>0.086075</td>\n",
       "      <td>0.189350</td>\n",
       "      <td>...</td>\n",
       "      <td>30.305000</td>\n",
       "      <td>136.500000</td>\n",
       "      <td>1295.000000</td>\n",
       "      <td>0.141750</td>\n",
       "      <td>0.350450</td>\n",
       "      <td>0.401150</td>\n",
       "      <td>0.178500</td>\n",
       "      <td>0.310300</td>\n",
       "      <td>0.086540</td>\n",
       "      <td>2.500000</td>\n",
       "    </tr>\n",
       "    <tr>\n",
       "      <th>75%</th>\n",
       "      <td>73.000000</td>\n",
       "      <td>19.580000</td>\n",
       "      <td>24.782500</td>\n",
       "      <td>129.650000</td>\n",
       "      <td>1193.500000</td>\n",
       "      <td>0.111375</td>\n",
       "      <td>0.172200</td>\n",
       "      <td>0.200500</td>\n",
       "      <td>0.103925</td>\n",
       "      <td>0.209550</td>\n",
       "      <td>...</td>\n",
       "      <td>33.625000</td>\n",
       "      <td>159.875000</td>\n",
       "      <td>1694.250000</td>\n",
       "      <td>0.154450</td>\n",
       "      <td>0.423675</td>\n",
       "      <td>0.550175</td>\n",
       "      <td>0.207125</td>\n",
       "      <td>0.358475</td>\n",
       "      <td>0.101775</td>\n",
       "      <td>3.500000</td>\n",
       "    </tr>\n",
       "    <tr>\n",
       "      <th>max</th>\n",
       "      <td>125.000000</td>\n",
       "      <td>27.220000</td>\n",
       "      <td>39.280000</td>\n",
       "      <td>182.100000</td>\n",
       "      <td>2250.000000</td>\n",
       "      <td>0.144700</td>\n",
       "      <td>0.311400</td>\n",
       "      <td>0.426800</td>\n",
       "      <td>0.201200</td>\n",
       "      <td>0.304000</td>\n",
       "      <td>...</td>\n",
       "      <td>49.540000</td>\n",
       "      <td>232.200000</td>\n",
       "      <td>3903.000000</td>\n",
       "      <td>0.222600</td>\n",
       "      <td>1.058000</td>\n",
       "      <td>1.170000</td>\n",
       "      <td>0.290300</td>\n",
       "      <td>0.663800</td>\n",
       "      <td>0.207500</td>\n",
       "      <td>10.000000</td>\n",
       "    </tr>\n",
       "  </tbody>\n",
       "</table>\n",
       "<p>8 rows × 32 columns</p>\n",
       "</div>"
      ],
      "text/plain": [
       "             Time  radius_mean  texture_mean  perimeter_mean    area_mean  \\\n",
       "count  194.000000   194.000000    194.000000      194.000000   194.000000   \n",
       "mean    46.938144    17.402320     22.300979      114.781495   969.092268   \n",
       "std     34.523646     3.171672      4.335292       21.430694   353.159959   \n",
       "min      1.000000    10.950000     10.380000       71.900000   361.600000   \n",
       "25%     14.250000    15.052500     19.342500       98.160000   702.525000   \n",
       "50%     39.500000    17.290000     21.795000      113.700000   929.100000   \n",
       "75%     73.000000    19.580000     24.782500      129.650000  1193.500000   \n",
       "max    125.000000    27.220000     39.280000      182.100000  2250.000000   \n",
       "\n",
       "       smoothness_mean  compactness_mean  concavity_mean  concave_points_mean  \\\n",
       "count       194.000000        194.000000      194.000000           194.000000   \n",
       "mean          0.102774          0.142642        0.156309             0.086808   \n",
       "std           0.012607          0.050229        0.070942             0.033962   \n",
       "min           0.074970          0.046050        0.023980             0.020310   \n",
       "25%           0.093900          0.109850        0.106075             0.063760   \n",
       "50%           0.102200          0.131750        0.152050             0.086075   \n",
       "75%           0.111375          0.172200        0.200500             0.103925   \n",
       "max           0.144700          0.311400        0.426800             0.201200   \n",
       "\n",
       "       symmetry_mean     ...      Worst_texture  Worst_perimeter   Worst_area  \\\n",
       "count     194.000000     ...         194.000000       194.000000   194.000000   \n",
       "mean        0.192885     ...          30.180258       140.136907  1401.756701   \n",
       "std         0.027679     ...           6.067777        28.826843   587.040705   \n",
       "min         0.130800     ...          16.670000        85.100000   508.100000   \n",
       "25%         0.174075     ...          26.210000       117.925000   940.575000   \n",
       "50%         0.189350     ...          30.305000       136.500000  1295.000000   \n",
       "75%         0.209550     ...          33.625000       159.875000  1694.250000   \n",
       "max         0.304000     ...          49.540000       232.200000  3903.000000   \n",
       "\n",
       "       Worst_smoothness  Worst_compactness  Worst_concavity  \\\n",
       "count        194.000000         194.000000       194.000000   \n",
       "mean           0.143921           0.364567         0.436010   \n",
       "std            0.022092           0.165528         0.174757   \n",
       "min            0.081910           0.051310         0.023980   \n",
       "25%            0.129325           0.247550         0.322150   \n",
       "50%            0.141750           0.350450         0.401150   \n",
       "75%            0.154450           0.423675         0.550175   \n",
       "max            0.222600           1.058000         1.170000   \n",
       "\n",
       "       Worst_concave_points  Worst_symmetry  Worst_fractal_dimension  \\\n",
       "count            194.000000      194.000000               194.000000   \n",
       "mean               0.178449        0.322251                 0.090777   \n",
       "std                0.045529        0.074068                 0.021371   \n",
       "min                0.028990        0.156500                 0.055040   \n",
       "25%                0.152225        0.275950                 0.076368   \n",
       "50%                0.178500        0.310300                 0.086540   \n",
       "75%                0.207125        0.358475                 0.101775   \n",
       "max                0.290300        0.663800                 0.207500   \n",
       "\n",
       "       Tumor_Size  \n",
       "count  194.000000  \n",
       "mean     2.867526  \n",
       "std      1.950588  \n",
       "min      0.400000  \n",
       "25%      1.500000  \n",
       "50%      2.500000  \n",
       "75%      3.500000  \n",
       "max     10.000000  \n",
       "\n",
       "[8 rows x 32 columns]"
      ]
     },
     "execution_count": 3,
     "metadata": {},
     "output_type": "execute_result"
    }
   ],
   "source": [
    "df.describe()"
   ]
  },
  {
   "cell_type": "code",
   "execution_count": 4,
   "metadata": {},
   "outputs": [
    {
     "data": {
      "text/plain": [
       "array(['N', 'R'], dtype=object)"
      ]
     },
     "execution_count": 4,
     "metadata": {},
     "output_type": "execute_result"
    }
   ],
   "source": [
    "df.Outcome.unique()"
   ]
  },
  {
   "cell_type": "code",
   "execution_count": 5,
   "metadata": {},
   "outputs": [],
   "source": [
    "df.to_csv('clean-data.csv')"
   ]
  },
  {
   "cell_type": "code",
   "execution_count": 6,
   "metadata": {},
   "outputs": [],
   "source": [
    "\n",
    "import seaborn as sns\n",
    "from matplotlib import pyplot as plt\n",
    "from sklearn.preprocessing import LabelEncoder"
   ]
  },
  {
   "cell_type": "code",
   "execution_count": 7,
   "metadata": {},
   "outputs": [],
   "source": [
    "df=pd.read_csv('clean-data.csv')\n",
    "df.drop('Unnamed: 0',axis=1, inplace=True)"
   ]
  },
  {
   "cell_type": "code",
   "execution_count": 8,
   "metadata": {},
   "outputs": [
    {
     "data": {
      "text/html": [
       "<div>\n",
       "<style scoped>\n",
       "    .dataframe tbody tr th:only-of-type {\n",
       "        vertical-align: middle;\n",
       "    }\n",
       "\n",
       "    .dataframe tbody tr th {\n",
       "        vertical-align: top;\n",
       "    }\n",
       "\n",
       "    .dataframe thead th {\n",
       "        text-align: right;\n",
       "    }\n",
       "</style>\n",
       "<table border=\"1\" class=\"dataframe\">\n",
       "  <thead>\n",
       "    <tr style=\"text-align: right;\">\n",
       "      <th></th>\n",
       "      <th>Outcome</th>\n",
       "      <th>Time</th>\n",
       "      <th>radius_mean</th>\n",
       "      <th>texture_mean</th>\n",
       "      <th>perimeter_mean</th>\n",
       "      <th>area_mean</th>\n",
       "      <th>smoothness_mean</th>\n",
       "      <th>compactness_mean</th>\n",
       "      <th>concavity_mean</th>\n",
       "      <th>concave_points_mean</th>\n",
       "      <th>...</th>\n",
       "      <th>Worst_perimeter</th>\n",
       "      <th>Worst_area</th>\n",
       "      <th>Worst_smoothness</th>\n",
       "      <th>Worst_compactness</th>\n",
       "      <th>Worst_concavity</th>\n",
       "      <th>Worst_concave_points</th>\n",
       "      <th>Worst_symmetry</th>\n",
       "      <th>Worst_fractal_dimension</th>\n",
       "      <th>Tumor_Size</th>\n",
       "      <th>Lymph_Node_Status</th>\n",
       "    </tr>\n",
       "  </thead>\n",
       "  <tbody>\n",
       "    <tr>\n",
       "      <th>0</th>\n",
       "      <td>0</td>\n",
       "      <td>31</td>\n",
       "      <td>18.02</td>\n",
       "      <td>27.60</td>\n",
       "      <td>117.50</td>\n",
       "      <td>1013.0</td>\n",
       "      <td>0.09489</td>\n",
       "      <td>0.1036</td>\n",
       "      <td>0.1086</td>\n",
       "      <td>0.07055</td>\n",
       "      <td>...</td>\n",
       "      <td>139.70</td>\n",
       "      <td>1436.0</td>\n",
       "      <td>0.1195</td>\n",
       "      <td>0.1926</td>\n",
       "      <td>0.3140</td>\n",
       "      <td>0.1170</td>\n",
       "      <td>0.2677</td>\n",
       "      <td>0.08113</td>\n",
       "      <td>5.0</td>\n",
       "      <td>5</td>\n",
       "    </tr>\n",
       "    <tr>\n",
       "      <th>1</th>\n",
       "      <td>0</td>\n",
       "      <td>61</td>\n",
       "      <td>17.99</td>\n",
       "      <td>10.38</td>\n",
       "      <td>122.80</td>\n",
       "      <td>1001.0</td>\n",
       "      <td>0.11840</td>\n",
       "      <td>0.2776</td>\n",
       "      <td>0.3001</td>\n",
       "      <td>0.14710</td>\n",
       "      <td>...</td>\n",
       "      <td>184.60</td>\n",
       "      <td>2019.0</td>\n",
       "      <td>0.1622</td>\n",
       "      <td>0.6656</td>\n",
       "      <td>0.7119</td>\n",
       "      <td>0.2654</td>\n",
       "      <td>0.4601</td>\n",
       "      <td>0.11890</td>\n",
       "      <td>3.0</td>\n",
       "      <td>2</td>\n",
       "    </tr>\n",
       "    <tr>\n",
       "      <th>2</th>\n",
       "      <td>0</td>\n",
       "      <td>116</td>\n",
       "      <td>21.37</td>\n",
       "      <td>17.44</td>\n",
       "      <td>137.50</td>\n",
       "      <td>1373.0</td>\n",
       "      <td>0.08836</td>\n",
       "      <td>0.1189</td>\n",
       "      <td>0.1255</td>\n",
       "      <td>0.08180</td>\n",
       "      <td>...</td>\n",
       "      <td>159.10</td>\n",
       "      <td>1949.0</td>\n",
       "      <td>0.1188</td>\n",
       "      <td>0.3449</td>\n",
       "      <td>0.3414</td>\n",
       "      <td>0.2032</td>\n",
       "      <td>0.4334</td>\n",
       "      <td>0.09067</td>\n",
       "      <td>2.5</td>\n",
       "      <td>0</td>\n",
       "    </tr>\n",
       "    <tr>\n",
       "      <th>3</th>\n",
       "      <td>0</td>\n",
       "      <td>123</td>\n",
       "      <td>11.42</td>\n",
       "      <td>20.38</td>\n",
       "      <td>77.58</td>\n",
       "      <td>386.1</td>\n",
       "      <td>0.14250</td>\n",
       "      <td>0.2839</td>\n",
       "      <td>0.2414</td>\n",
       "      <td>0.10520</td>\n",
       "      <td>...</td>\n",
       "      <td>98.87</td>\n",
       "      <td>567.7</td>\n",
       "      <td>0.2098</td>\n",
       "      <td>0.8663</td>\n",
       "      <td>0.6869</td>\n",
       "      <td>0.2575</td>\n",
       "      <td>0.6638</td>\n",
       "      <td>0.17300</td>\n",
       "      <td>2.0</td>\n",
       "      <td>0</td>\n",
       "    </tr>\n",
       "    <tr>\n",
       "      <th>4</th>\n",
       "      <td>1</td>\n",
       "      <td>27</td>\n",
       "      <td>20.29</td>\n",
       "      <td>14.34</td>\n",
       "      <td>135.10</td>\n",
       "      <td>1297.0</td>\n",
       "      <td>0.10030</td>\n",
       "      <td>0.1328</td>\n",
       "      <td>0.1980</td>\n",
       "      <td>0.10430</td>\n",
       "      <td>...</td>\n",
       "      <td>152.20</td>\n",
       "      <td>1575.0</td>\n",
       "      <td>0.1374</td>\n",
       "      <td>0.2050</td>\n",
       "      <td>0.4000</td>\n",
       "      <td>0.1625</td>\n",
       "      <td>0.2364</td>\n",
       "      <td>0.07678</td>\n",
       "      <td>3.5</td>\n",
       "      <td>0</td>\n",
       "    </tr>\n",
       "  </tbody>\n",
       "</table>\n",
       "<p>5 rows × 34 columns</p>\n",
       "</div>"
      ],
      "text/plain": [
       "   Outcome  Time  radius_mean  texture_mean  perimeter_mean  area_mean  \\\n",
       "0        0    31        18.02         27.60          117.50     1013.0   \n",
       "1        0    61        17.99         10.38          122.80     1001.0   \n",
       "2        0   116        21.37         17.44          137.50     1373.0   \n",
       "3        0   123        11.42         20.38           77.58      386.1   \n",
       "4        1    27        20.29         14.34          135.10     1297.0   \n",
       "\n",
       "   smoothness_mean  compactness_mean  concavity_mean  concave_points_mean  \\\n",
       "0          0.09489            0.1036          0.1086              0.07055   \n",
       "1          0.11840            0.2776          0.3001              0.14710   \n",
       "2          0.08836            0.1189          0.1255              0.08180   \n",
       "3          0.14250            0.2839          0.2414              0.10520   \n",
       "4          0.10030            0.1328          0.1980              0.10430   \n",
       "\n",
       "         ...          Worst_perimeter  Worst_area  Worst_smoothness  \\\n",
       "0        ...                   139.70      1436.0            0.1195   \n",
       "1        ...                   184.60      2019.0            0.1622   \n",
       "2        ...                   159.10      1949.0            0.1188   \n",
       "3        ...                    98.87       567.7            0.2098   \n",
       "4        ...                   152.20      1575.0            0.1374   \n",
       "\n",
       "   Worst_compactness  Worst_concavity  Worst_concave_points  Worst_symmetry  \\\n",
       "0             0.1926           0.3140                0.1170          0.2677   \n",
       "1             0.6656           0.7119                0.2654          0.4601   \n",
       "2             0.3449           0.3414                0.2032          0.4334   \n",
       "3             0.8663           0.6869                0.2575          0.6638   \n",
       "4             0.2050           0.4000                0.1625          0.2364   \n",
       "\n",
       "   Worst_fractal_dimension  Tumor_Size  Lymph_Node_Status  \n",
       "0                  0.08113         5.0                  5  \n",
       "1                  0.11890         3.0                  2  \n",
       "2                  0.09067         2.5                  0  \n",
       "3                  0.17300         2.0                  0  \n",
       "4                  0.07678         3.5                  0  \n",
       "\n",
       "[5 rows x 34 columns]"
      ]
     },
     "execution_count": 8,
     "metadata": {},
     "output_type": "execute_result"
    }
   ],
   "source": [
    "le=LabelEncoder()\n",
    "df['Outcome']=le.fit_transform(df[\"Outcome\"])\n",
    "df.head()"
   ]
  },
  {
   "cell_type": "code",
   "execution_count": 9,
   "metadata": {},
   "outputs": [
    {
     "name": "stderr",
     "output_type": "stream",
     "text": [
      "C:\\ProgramData\\Anaconda3\\lib\\site-packages\\ipykernel_launcher.py:1: DeprecationWarning: \n",
      ".ix is deprecated. Please use\n",
      ".loc for label based indexing or\n",
      ".iloc for positional indexing\n",
      "\n",
      "See the documentation here:\n",
      "http://pandas.pydata.org/pandas-docs/stable/indexing.html#ix-indexer-is-deprecated\n",
      "  \"\"\"Entry point for launching an IPython kernel.\n"
     ]
    },
    {
     "data": {
      "image/png": "[encoded data removed]",
      "text/plain": [
       "<matplotlib.figure.Figure at 0x2226bd68ba8>"
      ]
     },
     "metadata": {},
     "output_type": "display_data"
    }
   ],
   "source": [
    "data_mean=df.ix[:,2:11]\n",
    "hist_mean=data_mean.hist(bins=10, figsize=(15, 10),grid=False,)"
   ]
  },
  {
   "cell_type": "code",
   "execution_count": 10,
   "metadata": {},
   "outputs": [
    {
     "data": {
      "image/png": "[encoded data removed]",
      "text/plain": [
       "<matplotlib.figure.Figure at 0x2226c886390>"
      ]
     },
     "metadata": {},
     "output_type": "display_data"
    }
   ],
   "source": [
    "plt = data_mean.plot(kind= 'density', subplots=True, layout=(4,3), sharex=False, \n",
    "                     sharey=False,fontsize=12, figsize=(15,10))"
   ]
  },
  {
   "cell_type": "code",
   "execution_count": 11,
   "metadata": {},
   "outputs": [],
   "source": [
    "import numpy as np\n",
    "def split_train_test(data, test_ratio):\n",
    "    np.random.seed(42)\n",
    "    shuffled_indices = np.random.permutation(len(data))\n",
    "    test_set_size = int(len(data) * test_ratio)\n",
    "    test_indices = shuffled_indices[:test_set_size]\n",
    "    train_indices = shuffled_indices[test_set_size:]\n",
    "    return data.iloc[train_indices], data.iloc[test_indices]"
   ]
  },
  {
   "cell_type": "code",
   "execution_count": 12,
   "metadata": {},
   "outputs": [
    {
     "name": "stdout",
     "output_type": "stream",
     "text": [
      "156 train + 38 test\n"
     ]
    }
   ],
   "source": [
    "train_set,test_set = split_train_test(df, 0.2)\n",
    "print(len(train_set), \"train +\", len(test_set), \"test\") "
   ]
  },
  {
   "cell_type": "code",
   "execution_count": 13,
   "metadata": {},
   "outputs": [],
   "source": [
    "train_s=train_set.values\n",
    "train_x=train_s[:,1:]\n",
    "train_y=train_s[:,0]"
   ]
  },
  {
   "cell_type": "code",
   "execution_count": 14,
   "metadata": {},
   "outputs": [
    {
     "data": {
      "text/plain": [
       "array([[-0.88145414,  3.11239288, -0.12603593, ..., -0.46844817,\n",
       "         0.51508756,  0.10903401],\n",
       "       [ 0.87507359, -1.39219251, -1.66472958, ...,  1.16915711,\n",
       "        -0.21540025, -0.62254901],\n",
       "       [ 0.28956435, -0.816278  ,  0.20602258, ..., -1.01873301,\n",
       "         0.02809568, -0.62254901],\n",
       "       ...,\n",
       "       [ 0.61159443, -0.27460705, -0.37391059, ...,  0.36757847,\n",
       "        -0.94588806, -0.43965325],\n",
       "       [-0.94000507, -0.48629455,  0.49131228, ..., -1.12693508,\n",
       "        -0.45889619,  0.10903401],\n",
       "       [-0.82290322,  0.72468245,  1.48748781, ...,  0.40070156,\n",
       "         1.4890713 ,  2.1208873 ]])"
      ]
     },
     "execution_count": 14,
     "metadata": {},
     "output_type": "execute_result"
    }
   ],
   "source": [
    "from sklearn.preprocessing import StandardScaler\n",
    "\n",
    "# Normalize the  data (center around 0 and scale to remove the variance).\n",
    "scaler =StandardScaler()\n",
    "Xs = scaler.fit_transform(train_x)\n",
    "Xs"
   ]
  },
  {
   "cell_type": "code",
   "execution_count": 15,
   "metadata": {},
   "outputs": [
    {
     "data": {
      "image/png": "[encoded data removed]",
      "text/plain": [
       "<matplotlib.figure.Figure at 0x2226ce14080>"
      ]
     },
     "metadata": {},
     "output_type": "display_data"
    }
   ],
   "source": [
    "import seaborn as sns\n",
    "from matplotlib import pyplot as plt\n",
    "from sklearn.decomposition import PCA\n",
    "# feature extraction\n",
    "pca = PCA(n_components=4)\n",
    "fit = pca.fit(Xs)\n",
    "X_pca = pca.transform(Xs)\n",
    "\n",
    "PCA_df = pd.DataFrame()\n",
    "\n",
    "PCA_df['PCA_1'] = X_pca[:,0]\n",
    "PCA_df['PCA_2'] = X_pca[:,1]\n",
    "\n",
    "plt.plot(PCA_df['PCA_1'][df.Outcome == 0],PCA_df['PCA_2'][df.Outcome == 0],'o', alpha = 0.7, color = 'r')\n",
    "plt.plot(PCA_df['PCA_1'][df.Outcome == 1],PCA_df['PCA_2'][df.Outcome == 1],'o', alpha = 0.7, color = 'b')\n",
    "\n",
    "plt.xlabel('PCA_1')\n",
    "plt.ylabel('PCA_2')\n",
    "plt.legend(['N','R'])\n",
    "plt.show()"
   ]
  },
  {
   "cell_type": "code",
   "execution_count": 16,
   "metadata": {},
   "outputs": [
    {
     "data": {
      "text/plain": [
       "LogisticRegression(C=100.0, class_weight=None, dual=False, fit_intercept=True,\n",
       "          intercept_scaling=1, max_iter=100, multi_class='ovr', n_jobs=1,\n",
       "          penalty='l2', random_state=1, solver='liblinear', tol=0.0001,\n",
       "          verbose=0, warm_start=False)"
      ]
     },
     "execution_count": 16,
     "metadata": {},
     "output_type": "execute_result"
    }
   ],
   "source": [
    "from sklearn.linear_model import LogisticRegression\n",
    "lr = LogisticRegression(C=100.0, random_state=1) \n",
    "lr.fit(train_x, train_y) "
   ]
  },
  {
   "cell_type": "code",
   "execution_count": 17,
   "metadata": {},
   "outputs": [],
   "source": [
    "test_s=test_set.values\n",
    "test_set1=test_s[:,0]\n",
    "test_set2=test_s[:,1:]\n",
    "\n"
   ]
  },
  {
   "cell_type": "code",
   "execution_count": 18,
   "metadata": {},
   "outputs": [
    {
     "data": {
      "text/plain": [
       "array([0., 1., 0., 0., 0., 0., 0., 0., 0., 1., 0., 0., 1., 0., 0., 0., 1.,\n",
       "       0., 0., 0., 0., 1., 0., 0., 0., 0., 1., 0., 0., 0., 0., 0., 0., 0.,\n",
       "       0., 0., 0., 0.])"
      ]
     },
     "execution_count": 18,
     "metadata": {},
     "output_type": "execute_result"
    }
   ],
   "source": [
    "y=lr.predict(test_set2)\n",
    "y"
   ]
  },
  {
   "cell_type": "code",
   "execution_count": 19,
   "metadata": {},
   "outputs": [
    {
     "data": {
      "text/plain": [
       "0.8947368421052632"
      ]
     },
     "execution_count": 19,
     "metadata": {},
     "output_type": "execute_result"
    }
   ],
   "source": [
    "lr.score(test_set2,test_set1)"
   ]
  },
  {
   "cell_type": "code",
   "execution_count": 20,
   "metadata": {},
   "outputs": [
    {
     "data": {
      "text/plain": [
       "array([0., 1., 0., 0., 0., 0., 0., 0., 0., 1., 0., 0., 0., 0., 0., 1., 0.,\n",
       "       0., 0., 0., 0., 1., 0., 0., 1., 0., 1., 0., 0., 0., 0., 0., 0., 0.,\n",
       "       0., 0., 0., 0.])"
      ]
     },
     "execution_count": 20,
     "metadata": {},
     "output_type": "execute_result"
    }
   ],
   "source": [
    "test_set1"
   ]
  },
  {
   "cell_type": "code",
   "execution_count": 21,
   "metadata": {},
   "outputs": [],
   "source": [
    "var= pca.explained_variance_ratio_"
   ]
  },
  {
   "cell_type": "code",
   "execution_count": 22,
   "metadata": {},
   "outputs": [],
   "source": [
    "var1=np.cumsum(np.round(pca.explained_variance_ratio_, decimals=4)*100)"
   ]
  },
  {
   "cell_type": "code",
   "execution_count": 23,
   "metadata": {},
   "outputs": [
    {
     "name": "stdout",
     "output_type": "stream",
     "text": [
      "[29.18 54.21 65.22 72.03]\n"
     ]
    }
   ],
   "source": [
    "print(var1)"
   ]
  },
  {
   "cell_type": "code",
   "execution_count": 24,
   "metadata": {},
   "outputs": [
    {
     "data": {
      "image/png": "[encoded data removed]",
      "text/plain": [
       "<matplotlib.figure.Figure at 0x2226cf9f1d0>"
      ]
     },
     "metadata": {},
     "output_type": "display_data"
    }
   ],
   "source": [
    "plt.plot(var)\n",
    "plt.title('Scree Plot')\n",
    "plt.xlabel('Principal Component')\n",
    "plt.ylabel('Eigenvalue')\n",
    "\n",
    "leg = plt.legend(['Eigenvalues from PCA'], loc='best', borderpad=0.3,shadow=False,markerscale=0.4)\n",
    "leg.get_frame().set_alpha(0.4)\n",
    "leg.draggable(state=True)\n",
    "plt.show()"
   ]
  },
  {
   "cell_type": "code",
   "execution_count": null,
   "metadata": {},
   "outputs": [],
   "source": []
  },
  {
   "cell_type": "code",
   "execution_count": 25,
   "metadata": {},
   "outputs": [],
   "source": [
    "from scipy.stats import norm\n",
    "\n",
    "\n",
    "from sklearn.model_selection import cross_val_score\n",
    "from sklearn.pipeline import make_pipeline\n",
    "from sklearn.metrics import confusion_matrix\n",
    "from sklearn import metrics, preprocessing\n",
    "from sklearn.metrics import classification_report"
   ]
  },
  {
   "cell_type": "code",
   "execution_count": 26,
   "metadata": {},
   "outputs": [
    {
     "name": "stderr",
     "output_type": "stream",
     "text": [
      "C:\\ProgramData\\Anaconda3\\lib\\site-packages\\matplotlib\\cbook\\deprecation.py:106: MatplotlibDeprecationWarning: Adding an axes using the same arguments as a previous axes currently reuses the earlier instance.  In a future version, a new instance will always be created and returned.  Meanwhile, this warning can be suppressed, and the future behavior ensured, by passing a unique label to each axes instance.\n",
      "  warnings.warn(message, mplDeprecation, stacklevel=1)\n"
     ]
    },
    {
     "data": {
      "image/png": "[encoded data removed]",
      "text/plain": [
       "<matplotlib.figure.Figure at 0x2226e6b6908>"
      ]
     },
     "metadata": {},
     "output_type": "display_data"
    }
   ],
   "source": [
    "from sklearn.metrics import roc_curve, auc\n",
    "%matplotlib inline\n",
    "# Plot the receiver operating characteristic curve (ROC).\n",
    "plt.figure(figsize=(10,8))\n",
    "probas_ = lr.predict_proba(test_set2)\n",
    "fpr, tpr, thresholds = roc_curve(test_set1, probas_[:, 1])\n",
    "roc_auc = auc(fpr, tpr)\n",
    "plt.plot(fpr, tpr, lw=1, label='ROC fold (area = %0.2f)' % (roc_auc))\n",
    "plt.plot([0, 1], [0, 1], '--', color=(0.6, 0.6, 0.6), label='Random')\n",
    "plt.xlim([-0.05, 1.05])\n",
    "plt.ylim([-0.05, 1.05])\n",
    "plt.xlabel('False Positive Rate')\n",
    "plt.ylabel('True Positive Rate')\n",
    "plt.title('Receiver operating characteristic example')\n",
    "plt.axes().set_aspect(1)"
   ]
  },
  {
   "cell_type": "code",
   "execution_count": 27,
   "metadata": {},
   "outputs": [
    {
     "name": "stdout",
     "output_type": "stream",
     "text": [
      " true positive =  30 \n",
      " false positive =  2 \n",
      " false negative =  2 \n",
      " true negative =  4\n"
     ]
    }
   ],
   "source": [
    "cm=metrics.confusion_matrix(test_set1, y)\n",
    "print(\" true positive = \",cm[0][0],\"\\n false positive = \",cm[0][1],\"\\n false negative = \",cm[1][0],\"\\n true negative = \",cm[1][1] )"
   ]
  },
  {
   "cell_type": "code",
   "execution_count": 28,
   "metadata": {},
   "outputs": [
    {
     "name": "stdout",
     "output_type": "stream",
     "text": [
      "accuracy of the model =  0.8947368421052632\n"
     ]
    }
   ],
   "source": [
    "acc=(cm[0][0]+cm[1][1])/len(y)\n",
    "print(\"accuracy of the model = \",acc)"
   ]
  },
  {
   "cell_type": "code",
   "execution_count": 29,
   "metadata": {},
   "outputs": [
    {
     "name": "stdout",
     "output_type": "stream",
     "text": [
      "misclassification rate =  0.10526315789473684\n"
     ]
    }
   ],
   "source": [
    "ms=(cm[0][1]+cm[1][0])/len(y)\n",
    "print(\"misclassification rate = \",ms)"
   ]
  },
  {
   "cell_type": "code",
   "execution_count": 30,
   "metadata": {},
   "outputs": [
    {
     "name": "stdout",
     "output_type": "stream",
     "text": [
      "True  positive rate =  0.7894736842105263 \n",
      "false postive rate =  0.05263157894736842\n"
     ]
    }
   ],
   "source": [
    "tp=cm[0][0]/len(y)\n",
    "fn=cm[0][1]/len(y)\n",
    "print(\"True  positive rate = \",tp , \"\\nfalse postive rate = \",fn)"
   ]
  },
  {
   "cell_type": "code",
   "execution_count": 31,
   "metadata": {},
   "outputs": [],
   "source": [
    "#wr=pd.Series(y,test_set1)\n",
    "wr=pd.DataFrame([[y,test_set1]],columns=[\"predicted\",\"actual\"])\n",
    "wr.to_csv(\"predicted.csv\")"
   ]
  },
  {
   "cell_type": "code",
   "execution_count": null,
   "metadata": {},
   "outputs": [],
   "source": []
  },
  {
   "cell_type": "code",
   "execution_count": 32,
   "metadata": {},
   "outputs": [
    {
     "data": {
      "image/png": "[encoded data removed]",
      "text/plain": [
       "<matplotlib.figure.Figure at 0x2226e6e58d0>"
      ]
     },
     "metadata": {},
     "output_type": "display_data"
    },
    {
     "name": "stdout",
     "output_type": "stream",
     "text": [
      "             precision    recall  f1-score   support\n",
      "\n",
      "        0.0       0.94      0.94      0.94        32\n",
      "        1.0       0.67      0.67      0.67         6\n",
      "\n",
      "avg / total       0.89      0.89      0.89        38\n",
      "\n"
     ]
    }
   ],
   "source": [
    "import matplotlib.pyplot as plt\n",
    "\n",
    "from IPython.display import Image, display\n",
    "\n",
    "fig, ax = plt.subplots(figsize=(5, 5))\n",
    "ax.matshow(cm, cmap=plt.cm.Reds, alpha=0.3)\n",
    "for i in range(cm.shape[0]):\n",
    "     for j in range(cm.shape[1]):\n",
    "         ax.text(x=j, y=i,\n",
    "                s=cm[i, j], \n",
    "                va='center', ha='center')\n",
    "plt.xlabel('Predicted Values', )\n",
    "plt.ylabel('Actual Values')\n",
    "plt.show()\n",
    "print(classification_report(test_set1, y ))"
   ]
  },
  {
   "cell_type": "raw",
   "metadata": {},
   "source": [
    "# ###########regression analysis#######################"
   ]
  },
  {
   "cell_type": "code",
   "execution_count": 33,
   "metadata": {},
   "outputs": [],
   "source": [
    "train =       train_set[train_set['Outcome']==1] #### finding the patient details which have outcome 'R'\n",
    "train =       train.values\n",
    "train_x1 = train[:,2:]\n",
    "train_y1 =  train[:,1]\n",
    "test=test_set[test_set['Outcome']==1]\n",
    "test=test.values\n",
    "test_x1=test[:,2:]\n",
    "test_y1=test[:,1]"
   ]
  },
  {
   "cell_type": "code",
   "execution_count": 34,
   "metadata": {},
   "outputs": [
    {
     "data": {
      "text/plain": [
       "SVR(C=1.0, cache_size=200, coef0=0.0, degree=3, epsilon=0.1, gamma='auto',\n",
       "  kernel='rbf', max_iter=-1, shrinking=True, tol=0.001, verbose=False)"
      ]
     },
     "execution_count": 34,
     "metadata": {},
     "output_type": "execute_result"
    }
   ],
   "source": [
    "#support vector regression\n",
    "from sklearn import svm \n",
    "reg = svm.SVR()\n",
    "reg.fit(train_x1,train_y1)"
   ]
  },
  {
   "cell_type": "code",
   "execution_count": null,
   "metadata": {},
   "outputs": [],
   "source": [
    "reg.predict(test_x1)"
   ]
  },
  {
   "cell_type": "code",
   "execution_count": null,
   "metadata": {},
   "outputs": [],
   "source": [
    "reg.score(test_x1,test_y1)\n",
    "#actually model is underfitting the data"
   ]
  },
  {
   "cell_type": "code",
   "execution_count": null,
   "metadata": {},
   "outputs": [],
   "source": []
  }
 ],
 "metadata": {
  "kernelspec": {
   "display_name": "Python 3",
   "language": "python",
   "name": "python3"
  },
  "language_info": {
   "codemirror_mode": {
    "name": "ipython",
    "version": 3
   },
   "file_extension": ".py",
   "mimetype": "text/x-python",
   "name": "python",
   "nbconvert_exporter": "python",
   "pygments_lexer": "ipython3",
   "version": "3.6.4"
  }
 },
 "nbformat": 4,
 "nbformat_minor": 2
}
